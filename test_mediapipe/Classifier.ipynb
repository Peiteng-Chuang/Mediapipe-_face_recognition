{
 "cells": [
  {
   "cell_type": "code",
   "execution_count": 1,
   "metadata": {},
   "outputs": [],
   "source": [
    "import os\n",
    "import csv\n",
    "import cv2\n",
    "import numpy as np\n",
    "import mediapipe as mp\n",
    "import math\n",
    "\n",
    "image_folder = 'test_mediapipe/256img_lst'\n"
   ]
  },
  {
   "cell_type": "code",
   "execution_count": 6,
   "metadata": {},
   "outputs": [
    {
     "name": "stderr",
     "output_type": "stream",
     "text": [
      "c:\\Users\\User\\anaconda3\\envs\\DL_39\\lib\\site-packages\\google\\protobuf\\symbol_database.py:55: UserWarning: SymbolDatabase.GetPrototype() is deprecated. Please use message_factory.GetMessageClass() instead. SymbolDatabase.GetPrototype() will be removed soon.\n",
      "  warnings.warn('SymbolDatabase.GetPrototype() is deprecated. Please '\n"
     ]
    },
    {
     "name": "stdout",
     "output_type": "stream",
     "text": [
      "175_xyz :x=0.48785853385925293/y=0.6777152419090271/z=-0.018686536699533463\n",
      "10_xyz :x=0.48241424560546875/y=0.23158210515975952/z=-0.002851009601727128\n",
      "234_xyz :x=0.3444369435310364/y=0.4508568048477173/z=0.13198204338550568\n",
      "454_xyz :x=0.6233984231948853/y=0.435413658618927/z=0.13650020956993103\n",
      "172_xyz :x=0.37535515427589417/y=0.614633321762085/z=0.08428992331027985\n",
      "397_xyz :x=0.5974426865577698/y=0.6014646887779236/z=0.08768715709447861\n",
      "54_xyz :x=0.364085853099823/y=0.2941281795501709/z=0.058581382036209106\n",
      "284_xyz :x=0.600333571434021/y=0.28188398480415344/z=0.0622098371386528\n",
      "Distance between 175 and 10: 0.45\n",
      "Distance between 234 and 454: 0.28\n",
      "Distance between 172 and 397: 0.22\n",
      "Distance between 54 and 284: 0.24\n"
     ]
    }
   ],
   "source": [
    "import cv2\n",
    "import mediapipe as mp\n",
    "import math\n",
    "import numpy as np\n",
    "\n",
    "# 初始化MediaPipe Face Mesh\n",
    "mp_face_mesh = mp.solutions.face_mesh\n",
    "face_mesh = mp_face_mesh.FaceMesh(static_image_mode=True, max_num_faces=1, refine_landmarks=True)\n",
    "\n",
    "# 定义特征点组\n",
    "ford_head = [54, 284]\n",
    "low_jaw = [172, 397]\n",
    "jaw = [234, 454]\n",
    "long = [175, 10]\n",
    "ff = long + jaw + low_jaw + ford_head\n",
    "\n",
    "# 读入图片\n",
    "image_path = './test_image/max.jpg'  # 替换为你的图片路径\n",
    "image = cv2.imread(image_path)\n",
    "image_rgb = cv2.cvtColor(image, cv2.COLOR_BGR2RGB)\n",
    "results = face_mesh.process(image_rgb)\n",
    "\n",
    "# 定义计算欧几里得距离的函数\n",
    "def calculate_distance(point1, point2):\n",
    "    return math.sqrt((point1.x - point2.x)**2 + (point1.y - point2.y)**2 + (point1.z - point2.z)**2)\n",
    "\n",
    "if results.multi_face_landmarks:\n",
    "    landmarks = results.multi_face_landmarks[0].landmark\n",
    "    \n",
    "    # 绘制特征点及计算距离\n",
    "    for idx in ff:\n",
    "        x = int(landmarks[idx].x * image.shape[1])\n",
    "        y = int(landmarks[idx].y * image.shape[0])\n",
    "        cv2.circle(image, (x, y), 2, (0, 0, 255), -1)\n",
    "        cv2.putText(image, f'{idx}', (x, y), cv2.FONT_HERSHEY_SIMPLEX, 0.5, (0, 255, 0), 1)\n",
    "        print(f\"{idx}_xyz :x={landmarks[idx].x}/y={landmarks[idx].y}/z={landmarks[idx].z}\")\n",
    "    \n",
    "    # 计算并显示距离\n",
    "    groups = [long, jaw, low_jaw, ford_head]\n",
    "    for group in groups:\n",
    "        point1 = landmarks[group[0]]\n",
    "        point2 = landmarks[group[1]]\n",
    "        distance = calculate_distance(point1, point2)\n",
    "        mid_x = int((point1.x + point2.x) / 2 * image.shape[1])\n",
    "        mid_y = int((point1.y + point2.y) / 2 * image.shape[0])\n",
    "        cv2.putText(image, f'{distance:.2f}', (mid_x, mid_y), cv2.FONT_HERSHEY_SIMPLEX, 0.5, (255, 0, 0), 1)\n",
    "        print(f\"Distance between {group[0]} and {group[1]}: {distance:.2f}\")\n",
    "\n",
    "# 显示图片\n",
    "cv2.imshow('Image with Face Landmarks', image)\n",
    "cv2.waitKey(0)\n",
    "cv2.destroyAllWindows()\n"
   ]
  }
 ],
 "metadata": {
  "kernelspec": {
   "display_name": "DL_39",
   "language": "python",
   "name": "python3"
  },
  "language_info": {
   "codemirror_mode": {
    "name": "ipython",
    "version": 3
   },
   "file_extension": ".py",
   "mimetype": "text/x-python",
   "name": "python",
   "nbconvert_exporter": "python",
   "pygments_lexer": "ipython3",
   "version": "3.9.19"
  }
 },
 "nbformat": 4,
 "nbformat_minor": 2
}
